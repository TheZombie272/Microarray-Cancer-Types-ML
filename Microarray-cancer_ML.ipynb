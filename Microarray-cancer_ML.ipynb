{
  "nbformat": 4,
  "nbformat_minor": 0,
  "metadata": {
    "colab": {
      "provenance": [],
      "authorship_tag": "ABX9TyMIg+7w8t+oj+VCaxkehSFu",
      "include_colab_link": true
    },
    "kernelspec": {
      "name": "python3",
      "display_name": "Python 3"
    },
    "language_info": {
      "name": "python"
    }
  },
  "cells": [
    {
      "cell_type": "markdown",
      "metadata": {
        "id": "view-in-github",
        "colab_type": "text"
      },
      "source": [
        "<a href=\"https://colab.research.google.com/github/TheZombie272/Microarray-Cancer-Types-ML/blob/main/Untitled0.ipynb\" target=\"_parent\"><img src=\"https://colab.research.google.com/assets/colab-badge.svg\" alt=\"Open In Colab\"/></a>"
      ]
    },
    {
      "cell_type": "markdown",
      "source": [
        "# Importaciones"
      ],
      "metadata": {
        "id": "9FPu3idHwxbq"
      }
    },
    {
      "cell_type": "markdown",
      "source": [
        "importación de las librerías, voy a importar las mismas que se usaron en el paper"
      ],
      "metadata": {
        "id": "a_vvwVHlwrM4"
      }
    },
    {
      "cell_type": "code",
      "source": [
        "# Manipulación y visualización de datos\n",
        "import seaborn as sn; sn.set()\n",
        "import pandas as pd\n",
        "import numpy as np\n",
        "import matplotlib as mpl\n",
        "import matplotlib.pyplot as plt\n",
        "import matplotlib.colors as colors\n",
        "\n",
        "from mpl_toolkits.axes_grid1 import make_axes_locatable\n",
        "from pandas import set_option\n",
        "\n",
        "# Métricas\n",
        "from sklearn.metrics import confusion_matrix\n",
        "from sklearn.metrics import accuracy_score\n",
        "from sklearn.metrics import f1_score\n",
        "from sklearn.metrics import recall_score\n",
        "from sklearn.metrics import precision_score\n",
        "from sklearn.metrics import classification_report\n",
        "\n",
        "# Preprocesamiento y algoritmos de Maching Learning\n",
        "from sklearn.preprocessing import StandardScaler\n",
        "from sklearn import preprocessing\n",
        "from sklearn import model_selection\n",
        "from sklearn.linear_model import LogisticRegression\n",
        "from sklearn.linear_model import Ridge\n",
        "from sklearn.linear_model import Lasso\n",
        "from sklearn.neighbors import KNeighborsClassifier\n",
        "from sklearn.discriminant_analysis import LinearDiscriminantAnalysis\n",
        "from sklearn.naive_bayes import GaussianNB\n",
        "from sklearn.svm import SVC\n",
        "from sklearn.neural_network import MLPClassifier\n",
        "from sklearn.ensemble import RandomForestRegressor\n",
        "from sklearn.cluster import KMeans\n",
        "from sklearn.ensemble import RandomForestClassifier\n",
        "from sklearn.tree import DecisionTreeClassifier\n",
        "from sklearn.model_selection import train_test_split\n",
        "from sklearn import decomposition\n",
        "from sklearn import linear_model\n",
        "from sklearn.linear_model import Ridge\n",
        "from sklearn.linear_model import Lasso\n",
        "from sklearn.svm import SVC\n",
        "from sklearn.cluster import AgglomerativeClustering\n",
        "from sklearn.cluster import KMeans\n",
        "from sklearn.decomposition import PCA\n",
        "\n",
        "from scipy.cluster.hierarchy import dendrogram, linkage\n",
        "from scipy.cluster.hierarchy import cophenet\n",
        "from scipy.spatial.distance import pdist\n",
        "from scipy.spatial.distance import pdist, squareform\n",
        "from scipy.stats import mode\n"
      ],
      "metadata": {
        "id": "AumXpkLjwq2w"
      },
      "execution_count": 2,
      "outputs": []
    },
    {
      "cell_type": "code",
      "execution_count": 3,
      "metadata": {
        "colab": {
          "base_uri": "https://localhost:8080/"
        },
        "id": "as_rjgjPuPDD",
        "outputId": "fd3140b9-15b6-40b7-e7c7-fb5c93faeb62"
      },
      "outputs": [
        {
          "output_type": "stream",
          "name": "stdout",
          "text": [
            "Mounted at /content/drive\n"
          ]
        }
      ],
      "source": [
        "from google.colab import drive\n",
        "drive.mount('/content/drive')\n"
      ]
    },
    {
      "cell_type": "code",
      "source": [
        "path_sampledata = \"/content/drive/MyDrive/Universidad/MachingLearning/Tarea1/data11tumors2.csv\"\n",
        "data = pd.read_csv(path_sampledata)"
      ],
      "metadata": {
        "id": "_NlNTF1pwbgw"
      },
      "execution_count": 4,
      "outputs": []
    },
    {
      "cell_type": "markdown",
      "source": [
        "# Análisis exploratorio"
      ],
      "metadata": {
        "id": "QFWvjDoWw1eE"
      }
    },
    {
      "cell_type": "markdown",
      "source": [
        "Basandome en el paper, la persona fue directamente a un preprocesamiento de los datos, en mi caso, voy a comenzar con un analisis exploratorio para así entender mejor mi dataset. Entiendo que para este dataset no va a ser interesante el análisis exploratorio ya que hay una gran cantidad de features para analisar."
      ],
      "metadata": {
        "id": "KpnDid9YyMyQ"
      }
    },
    {
      "cell_type": "code",
      "source": [
        "data"
      ],
      "metadata": {
        "colab": {
          "base_uri": "https://localhost:8080/",
          "height": 424
        },
        "id": "m8cnYXfhw4B2",
        "outputId": "67759b2c-a761-4518-bf8d-3e4be95f2e9a"
      },
      "execution_count": 5,
      "outputs": [
        {
          "output_type": "execute_result",
          "data": {
            "text/plain": [
              "     Class   D1   D2   D3  D4   D5   D6    D7   D8    D9  ...  D12524  D12525  \\\n",
              "0        7  153  228   32  30  -36   48   984  -19   537  ...     100      30   \n",
              "1        7  154   99   43  55   66   63  5051  -26  1001  ...      27      43   \n",
              "2        7   84   85   19  28 -104   28  2387  -80  1131  ...     -32      51   \n",
              "3        7  234  169   40  36   81    6  2657   -6  1214  ...      43      52   \n",
              "4        7  104   58   42  13  107    5  3562   18  1464  ...     159      42   \n",
              "..     ...  ...  ...  ...  ..  ...  ...   ...  ...   ...  ...     ...     ...   \n",
              "169      0  157  578   40  58    5  -49    57  -29  3306  ...       4      45   \n",
              "170      0  286  882  110 -19 -142  -66    -5   23  2701  ...     -91     130   \n",
              "171      0  579  667   55 -41  -98 -138  -164  -61  2812  ...    -110     107   \n",
              "172      0  252  582   88   3   44 -162   553 -150  2020  ...     -66      92   \n",
              "173      0   83  420   14  84   12    1   153  -38  1833  ...      -5      85   \n",
              "\n",
              "     D12526  D12527  D12528  D12529  D12530  D12531  D12532  D12533  \n",
              "0        83      28      57     106     128       5      74    -188  \n",
              "1        90      30      82     485     896      -2      91     -78  \n",
              "2       110      10      86      62      76     -47      92    -103  \n",
              "3        82      12     135      60      69      22      89    -180  \n",
              "4        73       1      82      60      50      30      74    -198  \n",
              "..      ...     ...     ...     ...     ...     ...     ...     ...  \n",
              "169      64      37     169      91     180      -4      60    -142  \n",
              "170     137     -61      75      36      58      44     161    -433  \n",
              "171     199     -60      59       8      77     -42     171    -371  \n",
              "172     -26     -44     148      43      73       0     201    -333  \n",
              "173      96      92      67      32      30      12      80    -180  \n",
              "\n",
              "[174 rows x 12534 columns]"
            ],
            "text/html": [
              "\n",
              "  <div id=\"df-1be79ac2-f1c5-452f-8b53-d06a4ac11c19\" class=\"colab-df-container\">\n",
              "    <div>\n",
              "<style scoped>\n",
              "    .dataframe tbody tr th:only-of-type {\n",
              "        vertical-align: middle;\n",
              "    }\n",
              "\n",
              "    .dataframe tbody tr th {\n",
              "        vertical-align: top;\n",
              "    }\n",
              "\n",
              "    .dataframe thead th {\n",
              "        text-align: right;\n",
              "    }\n",
              "</style>\n",
              "<table border=\"1\" class=\"dataframe\">\n",
              "  <thead>\n",
              "    <tr style=\"text-align: right;\">\n",
              "      <th></th>\n",
              "      <th>Class</th>\n",
              "      <th>D1</th>\n",
              "      <th>D2</th>\n",
              "      <th>D3</th>\n",
              "      <th>D4</th>\n",
              "      <th>D5</th>\n",
              "      <th>D6</th>\n",
              "      <th>D7</th>\n",
              "      <th>D8</th>\n",
              "      <th>D9</th>\n",
              "      <th>...</th>\n",
              "      <th>D12524</th>\n",
              "      <th>D12525</th>\n",
              "      <th>D12526</th>\n",
              "      <th>D12527</th>\n",
              "      <th>D12528</th>\n",
              "      <th>D12529</th>\n",
              "      <th>D12530</th>\n",
              "      <th>D12531</th>\n",
              "      <th>D12532</th>\n",
              "      <th>D12533</th>\n",
              "    </tr>\n",
              "  </thead>\n",
              "  <tbody>\n",
              "    <tr>\n",
              "      <th>0</th>\n",
              "      <td>7</td>\n",
              "      <td>153</td>\n",
              "      <td>228</td>\n",
              "      <td>32</td>\n",
              "      <td>30</td>\n",
              "      <td>-36</td>\n",
              "      <td>48</td>\n",
              "      <td>984</td>\n",
              "      <td>-19</td>\n",
              "      <td>537</td>\n",
              "      <td>...</td>\n",
              "      <td>100</td>\n",
              "      <td>30</td>\n",
              "      <td>83</td>\n",
              "      <td>28</td>\n",
              "      <td>57</td>\n",
              "      <td>106</td>\n",
              "      <td>128</td>\n",
              "      <td>5</td>\n",
              "      <td>74</td>\n",
              "      <td>-188</td>\n",
              "    </tr>\n",
              "    <tr>\n",
              "      <th>1</th>\n",
              "      <td>7</td>\n",
              "      <td>154</td>\n",
              "      <td>99</td>\n",
              "      <td>43</td>\n",
              "      <td>55</td>\n",
              "      <td>66</td>\n",
              "      <td>63</td>\n",
              "      <td>5051</td>\n",
              "      <td>-26</td>\n",
              "      <td>1001</td>\n",
              "      <td>...</td>\n",
              "      <td>27</td>\n",
              "      <td>43</td>\n",
              "      <td>90</td>\n",
              "      <td>30</td>\n",
              "      <td>82</td>\n",
              "      <td>485</td>\n",
              "      <td>896</td>\n",
              "      <td>-2</td>\n",
              "      <td>91</td>\n",
              "      <td>-78</td>\n",
              "    </tr>\n",
              "    <tr>\n",
              "      <th>2</th>\n",
              "      <td>7</td>\n",
              "      <td>84</td>\n",
              "      <td>85</td>\n",
              "      <td>19</td>\n",
              "      <td>28</td>\n",
              "      <td>-104</td>\n",
              "      <td>28</td>\n",
              "      <td>2387</td>\n",
              "      <td>-80</td>\n",
              "      <td>1131</td>\n",
              "      <td>...</td>\n",
              "      <td>-32</td>\n",
              "      <td>51</td>\n",
              "      <td>110</td>\n",
              "      <td>10</td>\n",
              "      <td>86</td>\n",
              "      <td>62</td>\n",
              "      <td>76</td>\n",
              "      <td>-47</td>\n",
              "      <td>92</td>\n",
              "      <td>-103</td>\n",
              "    </tr>\n",
              "    <tr>\n",
              "      <th>3</th>\n",
              "      <td>7</td>\n",
              "      <td>234</td>\n",
              "      <td>169</td>\n",
              "      <td>40</td>\n",
              "      <td>36</td>\n",
              "      <td>81</td>\n",
              "      <td>6</td>\n",
              "      <td>2657</td>\n",
              "      <td>-6</td>\n",
              "      <td>1214</td>\n",
              "      <td>...</td>\n",
              "      <td>43</td>\n",
              "      <td>52</td>\n",
              "      <td>82</td>\n",
              "      <td>12</td>\n",
              "      <td>135</td>\n",
              "      <td>60</td>\n",
              "      <td>69</td>\n",
              "      <td>22</td>\n",
              "      <td>89</td>\n",
              "      <td>-180</td>\n",
              "    </tr>\n",
              "    <tr>\n",
              "      <th>4</th>\n",
              "      <td>7</td>\n",
              "      <td>104</td>\n",
              "      <td>58</td>\n",
              "      <td>42</td>\n",
              "      <td>13</td>\n",
              "      <td>107</td>\n",
              "      <td>5</td>\n",
              "      <td>3562</td>\n",
              "      <td>18</td>\n",
              "      <td>1464</td>\n",
              "      <td>...</td>\n",
              "      <td>159</td>\n",
              "      <td>42</td>\n",
              "      <td>73</td>\n",
              "      <td>1</td>\n",
              "      <td>82</td>\n",
              "      <td>60</td>\n",
              "      <td>50</td>\n",
              "      <td>30</td>\n",
              "      <td>74</td>\n",
              "      <td>-198</td>\n",
              "    </tr>\n",
              "    <tr>\n",
              "      <th>...</th>\n",
              "      <td>...</td>\n",
              "      <td>...</td>\n",
              "      <td>...</td>\n",
              "      <td>...</td>\n",
              "      <td>...</td>\n",
              "      <td>...</td>\n",
              "      <td>...</td>\n",
              "      <td>...</td>\n",
              "      <td>...</td>\n",
              "      <td>...</td>\n",
              "      <td>...</td>\n",
              "      <td>...</td>\n",
              "      <td>...</td>\n",
              "      <td>...</td>\n",
              "      <td>...</td>\n",
              "      <td>...</td>\n",
              "      <td>...</td>\n",
              "      <td>...</td>\n",
              "      <td>...</td>\n",
              "      <td>...</td>\n",
              "      <td>...</td>\n",
              "    </tr>\n",
              "    <tr>\n",
              "      <th>169</th>\n",
              "      <td>0</td>\n",
              "      <td>157</td>\n",
              "      <td>578</td>\n",
              "      <td>40</td>\n",
              "      <td>58</td>\n",
              "      <td>5</td>\n",
              "      <td>-49</td>\n",
              "      <td>57</td>\n",
              "      <td>-29</td>\n",
              "      <td>3306</td>\n",
              "      <td>...</td>\n",
              "      <td>4</td>\n",
              "      <td>45</td>\n",
              "      <td>64</td>\n",
              "      <td>37</td>\n",
              "      <td>169</td>\n",
              "      <td>91</td>\n",
              "      <td>180</td>\n",
              "      <td>-4</td>\n",
              "      <td>60</td>\n",
              "      <td>-142</td>\n",
              "    </tr>\n",
              "    <tr>\n",
              "      <th>170</th>\n",
              "      <td>0</td>\n",
              "      <td>286</td>\n",
              "      <td>882</td>\n",
              "      <td>110</td>\n",
              "      <td>-19</td>\n",
              "      <td>-142</td>\n",
              "      <td>-66</td>\n",
              "      <td>-5</td>\n",
              "      <td>23</td>\n",
              "      <td>2701</td>\n",
              "      <td>...</td>\n",
              "      <td>-91</td>\n",
              "      <td>130</td>\n",
              "      <td>137</td>\n",
              "      <td>-61</td>\n",
              "      <td>75</td>\n",
              "      <td>36</td>\n",
              "      <td>58</td>\n",
              "      <td>44</td>\n",
              "      <td>161</td>\n",
              "      <td>-433</td>\n",
              "    </tr>\n",
              "    <tr>\n",
              "      <th>171</th>\n",
              "      <td>0</td>\n",
              "      <td>579</td>\n",
              "      <td>667</td>\n",
              "      <td>55</td>\n",
              "      <td>-41</td>\n",
              "      <td>-98</td>\n",
              "      <td>-138</td>\n",
              "      <td>-164</td>\n",
              "      <td>-61</td>\n",
              "      <td>2812</td>\n",
              "      <td>...</td>\n",
              "      <td>-110</td>\n",
              "      <td>107</td>\n",
              "      <td>199</td>\n",
              "      <td>-60</td>\n",
              "      <td>59</td>\n",
              "      <td>8</td>\n",
              "      <td>77</td>\n",
              "      <td>-42</td>\n",
              "      <td>171</td>\n",
              "      <td>-371</td>\n",
              "    </tr>\n",
              "    <tr>\n",
              "      <th>172</th>\n",
              "      <td>0</td>\n",
              "      <td>252</td>\n",
              "      <td>582</td>\n",
              "      <td>88</td>\n",
              "      <td>3</td>\n",
              "      <td>44</td>\n",
              "      <td>-162</td>\n",
              "      <td>553</td>\n",
              "      <td>-150</td>\n",
              "      <td>2020</td>\n",
              "      <td>...</td>\n",
              "      <td>-66</td>\n",
              "      <td>92</td>\n",
              "      <td>-26</td>\n",
              "      <td>-44</td>\n",
              "      <td>148</td>\n",
              "      <td>43</td>\n",
              "      <td>73</td>\n",
              "      <td>0</td>\n",
              "      <td>201</td>\n",
              "      <td>-333</td>\n",
              "    </tr>\n",
              "    <tr>\n",
              "      <th>173</th>\n",
              "      <td>0</td>\n",
              "      <td>83</td>\n",
              "      <td>420</td>\n",
              "      <td>14</td>\n",
              "      <td>84</td>\n",
              "      <td>12</td>\n",
              "      <td>1</td>\n",
              "      <td>153</td>\n",
              "      <td>-38</td>\n",
              "      <td>1833</td>\n",
              "      <td>...</td>\n",
              "      <td>-5</td>\n",
              "      <td>85</td>\n",
              "      <td>96</td>\n",
              "      <td>92</td>\n",
              "      <td>67</td>\n",
              "      <td>32</td>\n",
              "      <td>30</td>\n",
              "      <td>12</td>\n",
              "      <td>80</td>\n",
              "      <td>-180</td>\n",
              "    </tr>\n",
              "  </tbody>\n",
              "</table>\n",
              "<p>174 rows × 12534 columns</p>\n",
              "</div>\n",
              "    <div class=\"colab-df-buttons\">\n",
              "\n",
              "  <div class=\"colab-df-container\">\n",
              "    <button class=\"colab-df-convert\" onclick=\"convertToInteractive('df-1be79ac2-f1c5-452f-8b53-d06a4ac11c19')\"\n",
              "            title=\"Convert this dataframe to an interactive table.\"\n",
              "            style=\"display:none;\">\n",
              "\n",
              "  <svg xmlns=\"http://www.w3.org/2000/svg\" height=\"24px\" viewBox=\"0 -960 960 960\">\n",
              "    <path d=\"M120-120v-720h720v720H120Zm60-500h600v-160H180v160Zm220 220h160v-160H400v160Zm0 220h160v-160H400v160ZM180-400h160v-160H180v160Zm440 0h160v-160H620v160ZM180-180h160v-160H180v160Zm440 0h160v-160H620v160Z\"/>\n",
              "  </svg>\n",
              "    </button>\n",
              "\n",
              "  <style>\n",
              "    .colab-df-container {\n",
              "      display:flex;\n",
              "      gap: 12px;\n",
              "    }\n",
              "\n",
              "    .colab-df-convert {\n",
              "      background-color: #E8F0FE;\n",
              "      border: none;\n",
              "      border-radius: 50%;\n",
              "      cursor: pointer;\n",
              "      display: none;\n",
              "      fill: #1967D2;\n",
              "      height: 32px;\n",
              "      padding: 0 0 0 0;\n",
              "      width: 32px;\n",
              "    }\n",
              "\n",
              "    .colab-df-convert:hover {\n",
              "      background-color: #E2EBFA;\n",
              "      box-shadow: 0px 1px 2px rgba(60, 64, 67, 0.3), 0px 1px 3px 1px rgba(60, 64, 67, 0.15);\n",
              "      fill: #174EA6;\n",
              "    }\n",
              "\n",
              "    .colab-df-buttons div {\n",
              "      margin-bottom: 4px;\n",
              "    }\n",
              "\n",
              "    [theme=dark] .colab-df-convert {\n",
              "      background-color: #3B4455;\n",
              "      fill: #D2E3FC;\n",
              "    }\n",
              "\n",
              "    [theme=dark] .colab-df-convert:hover {\n",
              "      background-color: #434B5C;\n",
              "      box-shadow: 0px 1px 3px 1px rgba(0, 0, 0, 0.15);\n",
              "      filter: drop-shadow(0px 1px 2px rgba(0, 0, 0, 0.3));\n",
              "      fill: #FFFFFF;\n",
              "    }\n",
              "  </style>\n",
              "\n",
              "    <script>\n",
              "      const buttonEl =\n",
              "        document.querySelector('#df-1be79ac2-f1c5-452f-8b53-d06a4ac11c19 button.colab-df-convert');\n",
              "      buttonEl.style.display =\n",
              "        google.colab.kernel.accessAllowed ? 'block' : 'none';\n",
              "\n",
              "      async function convertToInteractive(key) {\n",
              "        const element = document.querySelector('#df-1be79ac2-f1c5-452f-8b53-d06a4ac11c19');\n",
              "        const dataTable =\n",
              "          await google.colab.kernel.invokeFunction('convertToInteractive',\n",
              "                                                    [key], {});\n",
              "        if (!dataTable) return;\n",
              "\n",
              "        const docLinkHtml = 'Like what you see? Visit the ' +\n",
              "          '<a target=\"_blank\" href=https://colab.research.google.com/notebooks/data_table.ipynb>data table notebook</a>'\n",
              "          + ' to learn more about interactive tables.';\n",
              "        element.innerHTML = '';\n",
              "        dataTable['output_type'] = 'display_data';\n",
              "        await google.colab.output.renderOutput(dataTable, element);\n",
              "        const docLink = document.createElement('div');\n",
              "        docLink.innerHTML = docLinkHtml;\n",
              "        element.appendChild(docLink);\n",
              "      }\n",
              "    </script>\n",
              "  </div>\n",
              "\n",
              "\n",
              "    <div id=\"df-56dca0cc-0932-4aef-bc1e-e53f46c202fa\">\n",
              "      <button class=\"colab-df-quickchart\" onclick=\"quickchart('df-56dca0cc-0932-4aef-bc1e-e53f46c202fa')\"\n",
              "                title=\"Suggest charts\"\n",
              "                style=\"display:none;\">\n",
              "\n",
              "<svg xmlns=\"http://www.w3.org/2000/svg\" height=\"24px\"viewBox=\"0 0 24 24\"\n",
              "     width=\"24px\">\n",
              "    <g>\n",
              "        <path d=\"M19 3H5c-1.1 0-2 .9-2 2v14c0 1.1.9 2 2 2h14c1.1 0 2-.9 2-2V5c0-1.1-.9-2-2-2zM9 17H7v-7h2v7zm4 0h-2V7h2v10zm4 0h-2v-4h2v4z\"/>\n",
              "    </g>\n",
              "</svg>\n",
              "      </button>\n",
              "\n",
              "<style>\n",
              "  .colab-df-quickchart {\n",
              "      --bg-color: #E8F0FE;\n",
              "      --fill-color: #1967D2;\n",
              "      --hover-bg-color: #E2EBFA;\n",
              "      --hover-fill-color: #174EA6;\n",
              "      --disabled-fill-color: #AAA;\n",
              "      --disabled-bg-color: #DDD;\n",
              "  }\n",
              "\n",
              "  [theme=dark] .colab-df-quickchart {\n",
              "      --bg-color: #3B4455;\n",
              "      --fill-color: #D2E3FC;\n",
              "      --hover-bg-color: #434B5C;\n",
              "      --hover-fill-color: #FFFFFF;\n",
              "      --disabled-bg-color: #3B4455;\n",
              "      --disabled-fill-color: #666;\n",
              "  }\n",
              "\n",
              "  .colab-df-quickchart {\n",
              "    background-color: var(--bg-color);\n",
              "    border: none;\n",
              "    border-radius: 50%;\n",
              "    cursor: pointer;\n",
              "    display: none;\n",
              "    fill: var(--fill-color);\n",
              "    height: 32px;\n",
              "    padding: 0;\n",
              "    width: 32px;\n",
              "  }\n",
              "\n",
              "  .colab-df-quickchart:hover {\n",
              "    background-color: var(--hover-bg-color);\n",
              "    box-shadow: 0 1px 2px rgba(60, 64, 67, 0.3), 0 1px 3px 1px rgba(60, 64, 67, 0.15);\n",
              "    fill: var(--button-hover-fill-color);\n",
              "  }\n",
              "\n",
              "  .colab-df-quickchart-complete:disabled,\n",
              "  .colab-df-quickchart-complete:disabled:hover {\n",
              "    background-color: var(--disabled-bg-color);\n",
              "    fill: var(--disabled-fill-color);\n",
              "    box-shadow: none;\n",
              "  }\n",
              "\n",
              "  .colab-df-spinner {\n",
              "    border: 2px solid var(--fill-color);\n",
              "    border-color: transparent;\n",
              "    border-bottom-color: var(--fill-color);\n",
              "    animation:\n",
              "      spin 1s steps(1) infinite;\n",
              "  }\n",
              "\n",
              "  @keyframes spin {\n",
              "    0% {\n",
              "      border-color: transparent;\n",
              "      border-bottom-color: var(--fill-color);\n",
              "      border-left-color: var(--fill-color);\n",
              "    }\n",
              "    20% {\n",
              "      border-color: transparent;\n",
              "      border-left-color: var(--fill-color);\n",
              "      border-top-color: var(--fill-color);\n",
              "    }\n",
              "    30% {\n",
              "      border-color: transparent;\n",
              "      border-left-color: var(--fill-color);\n",
              "      border-top-color: var(--fill-color);\n",
              "      border-right-color: var(--fill-color);\n",
              "    }\n",
              "    40% {\n",
              "      border-color: transparent;\n",
              "      border-right-color: var(--fill-color);\n",
              "      border-top-color: var(--fill-color);\n",
              "    }\n",
              "    60% {\n",
              "      border-color: transparent;\n",
              "      border-right-color: var(--fill-color);\n",
              "    }\n",
              "    80% {\n",
              "      border-color: transparent;\n",
              "      border-right-color: var(--fill-color);\n",
              "      border-bottom-color: var(--fill-color);\n",
              "    }\n",
              "    90% {\n",
              "      border-color: transparent;\n",
              "      border-bottom-color: var(--fill-color);\n",
              "    }\n",
              "  }\n",
              "</style>\n",
              "\n",
              "      <script>\n",
              "        async function quickchart(key) {\n",
              "          const quickchartButtonEl =\n",
              "            document.querySelector('#' + key + ' button');\n",
              "          quickchartButtonEl.disabled = true;  // To prevent multiple clicks.\n",
              "          quickchartButtonEl.classList.add('colab-df-spinner');\n",
              "          try {\n",
              "            const charts = await google.colab.kernel.invokeFunction(\n",
              "                'suggestCharts', [key], {});\n",
              "          } catch (error) {\n",
              "            console.error('Error during call to suggestCharts:', error);\n",
              "          }\n",
              "          quickchartButtonEl.classList.remove('colab-df-spinner');\n",
              "          quickchartButtonEl.classList.add('colab-df-quickchart-complete');\n",
              "        }\n",
              "        (() => {\n",
              "          let quickchartButtonEl =\n",
              "            document.querySelector('#df-56dca0cc-0932-4aef-bc1e-e53f46c202fa button');\n",
              "          quickchartButtonEl.style.display =\n",
              "            google.colab.kernel.accessAllowed ? 'block' : 'none';\n",
              "        })();\n",
              "      </script>\n",
              "    </div>\n",
              "\n",
              "  <div id=\"id_bff4cb62-06e5-4985-b773-e8768a3791c6\">\n",
              "    <style>\n",
              "      .colab-df-generate {\n",
              "        background-color: #E8F0FE;\n",
              "        border: none;\n",
              "        border-radius: 50%;\n",
              "        cursor: pointer;\n",
              "        display: none;\n",
              "        fill: #1967D2;\n",
              "        height: 32px;\n",
              "        padding: 0 0 0 0;\n",
              "        width: 32px;\n",
              "      }\n",
              "\n",
              "      .colab-df-generate:hover {\n",
              "        background-color: #E2EBFA;\n",
              "        box-shadow: 0px 1px 2px rgba(60, 64, 67, 0.3), 0px 1px 3px 1px rgba(60, 64, 67, 0.15);\n",
              "        fill: #174EA6;\n",
              "      }\n",
              "\n",
              "      [theme=dark] .colab-df-generate {\n",
              "        background-color: #3B4455;\n",
              "        fill: #D2E3FC;\n",
              "      }\n",
              "\n",
              "      [theme=dark] .colab-df-generate:hover {\n",
              "        background-color: #434B5C;\n",
              "        box-shadow: 0px 1px 3px 1px rgba(0, 0, 0, 0.15);\n",
              "        filter: drop-shadow(0px 1px 2px rgba(0, 0, 0, 0.3));\n",
              "        fill: #FFFFFF;\n",
              "      }\n",
              "    </style>\n",
              "    <button class=\"colab-df-generate\" onclick=\"generateWithVariable('data')\"\n",
              "            title=\"Generate code using this dataframe.\"\n",
              "            style=\"display:none;\">\n",
              "\n",
              "  <svg xmlns=\"http://www.w3.org/2000/svg\" height=\"24px\"viewBox=\"0 0 24 24\"\n",
              "       width=\"24px\">\n",
              "    <path d=\"M7,19H8.4L18.45,9,17,7.55,7,17.6ZM5,21V16.75L18.45,3.32a2,2,0,0,1,2.83,0l1.4,1.43a1.91,1.91,0,0,1,.58,1.4,1.91,1.91,0,0,1-.58,1.4L9.25,21ZM18.45,9,17,7.55Zm-12,3A5.31,5.31,0,0,0,4.9,8.1,5.31,5.31,0,0,0,1,6.5,5.31,5.31,0,0,0,4.9,4.9,5.31,5.31,0,0,0,6.5,1,5.31,5.31,0,0,0,8.1,4.9,5.31,5.31,0,0,0,12,6.5,5.46,5.46,0,0,0,6.5,12Z\"/>\n",
              "  </svg>\n",
              "    </button>\n",
              "    <script>\n",
              "      (() => {\n",
              "      const buttonEl =\n",
              "        document.querySelector('#id_bff4cb62-06e5-4985-b773-e8768a3791c6 button.colab-df-generate');\n",
              "      buttonEl.style.display =\n",
              "        google.colab.kernel.accessAllowed ? 'block' : 'none';\n",
              "\n",
              "      buttonEl.onclick = () => {\n",
              "        google.colab.notebook.generateWithVariable('data');\n",
              "      }\n",
              "      })();\n",
              "    </script>\n",
              "  </div>\n",
              "\n",
              "    </div>\n",
              "  </div>\n"
            ],
            "application/vnd.google.colaboratory.intrinsic+json": {
              "type": "dataframe",
              "variable_name": "data"
            }
          },
          "metadata": {},
          "execution_count": 5
        }
      ]
    },
    {
      "cell_type": "markdown",
      "source": [
        "## Inspección básica"
      ],
      "metadata": {
        "id": "yAfPiC4WzUJE"
      }
    },
    {
      "cell_type": "markdown",
      "source": [
        "Dimensiones de dataset"
      ],
      "metadata": {
        "id": "5nPPOZRB3cYU"
      }
    },
    {
      "cell_type": "code",
      "source": [
        "print(\"Dimensiones del dataset:\")\n",
        "print(f\"Filas (muestras): {data.shape[0]}\")\n",
        "print(f\"Columnas (genes + clase): {data.shape[1]}\")\n"
      ],
      "metadata": {
        "colab": {
          "base_uri": "https://localhost:8080/"
        },
        "id": "6i5kJQoE3gyU",
        "outputId": "65280667-3c06-4574-b42e-3b1b1c11ddb7"
      },
      "execution_count": 6,
      "outputs": [
        {
          "output_type": "stream",
          "name": "stdout",
          "text": [
            "Dimensiones del dataset:\n",
            "Filas (muestras): 174\n",
            "Columnas (genes + clase): 12534\n"
          ]
        }
      ]
    },
    {
      "cell_type": "markdown",
      "source": [
        "Tipos de datos"
      ],
      "metadata": {
        "id": "c0q0LvXG3nPB"
      }
    },
    {
      "cell_type": "code",
      "source": [
        "print(\"\\nTipos de datos:\")\n",
        "print(data.dtypes)\n"
      ],
      "metadata": {
        "colab": {
          "base_uri": "https://localhost:8080/"
        },
        "id": "LqzFMVAk3ogS",
        "outputId": "892102de-4858-44ee-9452-b109785ecf31"
      },
      "execution_count": 7,
      "outputs": [
        {
          "output_type": "stream",
          "name": "stdout",
          "text": [
            "\n",
            "Tipos de datos:\n",
            "Class     int64\n",
            "D1        int64\n",
            "D2        int64\n",
            "D3        int64\n",
            "D4        int64\n",
            "          ...  \n",
            "D12529    int64\n",
            "D12530    int64\n",
            "D12531    int64\n",
            "D12532    int64\n",
            "D12533    int64\n",
            "Length: 12534, dtype: object\n"
          ]
        }
      ]
    },
    {
      "cell_type": "markdown",
      "source": [
        "Clases disponibles"
      ],
      "metadata": {
        "id": "gNzi_l1h3st9"
      }
    },
    {
      "cell_type": "code",
      "source": [
        "print(\"\\nDistribución de clases:\")\n",
        "print(data['Class'].value_counts())"
      ],
      "metadata": {
        "colab": {
          "base_uri": "https://localhost:8080/"
        },
        "id": "wcOeaD_J3u69",
        "outputId": "170e170b-084c-4a0c-fad3-08dbc050d602"
      },
      "execution_count": 8,
      "outputs": [
        {
          "output_type": "stream",
          "name": "stdout",
          "text": [
            "\n",
            "Distribución de clases:\n",
            "Class\n",
            "0     27\n",
            "2     26\n",
            "7     26\n",
            "3     23\n",
            "9     14\n",
            "10    14\n",
            "4     12\n",
            "5     11\n",
            "1      8\n",
            "6      7\n",
            "8      6\n",
            "Name: count, dtype: int64\n"
          ]
        }
      ]
    },
    {
      "cell_type": "markdown",
      "source": [
        "Comprobación de valores null"
      ],
      "metadata": {
        "id": "HVsWw8Em30E0"
      }
    },
    {
      "cell_type": "code",
      "source": [
        "print(\"\\nValores nulos por columna:\")\n",
        "print(data.isnull().sum())\n",
        "\n",
        "# En base a este resultado podríamos decir que todos los valores no contienen null"
      ],
      "metadata": {
        "colab": {
          "base_uri": "https://localhost:8080/"
        },
        "id": "xMiapqDn32e4",
        "outputId": "9624ad3c-992a-473f-c878-ccea0c2d1921"
      },
      "execution_count": 9,
      "outputs": [
        {
          "output_type": "stream",
          "name": "stdout",
          "text": [
            "\n",
            "Valores nulos por columna:\n",
            "Class     0\n",
            "D1        0\n",
            "D2        0\n",
            "D3        0\n",
            "D4        0\n",
            "         ..\n",
            "D12529    0\n",
            "D12530    0\n",
            "D12531    0\n",
            "D12532    0\n",
            "D12533    0\n",
            "Length: 12534, dtype: int64\n"
          ]
        }
      ]
    },
    {
      "cell_type": "markdown",
      "source": [
        "Estadísticas descriptivas"
      ],
      "metadata": {
        "id": "as8zebS74AkB"
      }
    },
    {
      "cell_type": "code",
      "source": [
        "print(\"\\nEstadísticas descriptivas:\")\n",
        "print(data.describe())\n",
        "\n",
        "# Acá no hay mucho que ver ya que son muchas caracterisitcas, demasiadas"
      ],
      "metadata": {
        "colab": {
          "base_uri": "https://localhost:8080/"
        },
        "id": "DYJBemR036_m",
        "outputId": "1d26c119-0b11-4eb3-ec79-756683455954"
      },
      "execution_count": 10,
      "outputs": [
        {
          "output_type": "stream",
          "name": "stdout",
          "text": [
            "\n",
            "Estadísticas descriptivas:\n",
            "            Class          D1           D2          D3           D4  \\\n",
            "count  174.000000  174.000000   174.000000  174.000000   174.000000   \n",
            "mean     4.425287  218.413793   537.942529   71.965517    83.706897   \n",
            "std      3.245743  117.290761   268.926376   43.827156   122.828468   \n",
            "min      0.000000 -122.000000    30.000000  -24.000000   -80.000000   \n",
            "25%      2.000000  148.750000   360.000000   44.000000    24.250000   \n",
            "50%      4.000000  210.500000   520.500000   65.000000    65.000000   \n",
            "75%      7.000000  281.750000   706.750000   87.750000   111.000000   \n",
            "max     10.000000  616.000000  1419.000000  247.000000  1307.000000   \n",
            "\n",
            "               D5          D6           D7            D8           D9  ...  \\\n",
            "count  174.000000  174.000000   174.000000    174.000000   174.000000  ...   \n",
            "mean   -67.155172  -16.568966   644.988506     76.609195  1472.890805  ...   \n",
            "std    141.340339   62.832499  1092.470272    863.362875   650.125888  ...   \n",
            "min   -900.000000 -206.000000  -551.000000   -205.000000    23.000000  ...   \n",
            "25%   -129.750000  -58.000000   -32.250000    -67.750000  1060.250000  ...   \n",
            "50%    -43.500000  -15.000000   146.000000    -35.500000  1427.500000  ...   \n",
            "75%     26.500000   23.000000   838.750000     -3.750000  1774.500000  ...   \n",
            "max    264.000000  138.000000  5218.000000  10019.000000  4120.000000  ...   \n",
            "\n",
            "           D12524      D12525      D12526      D12527      D12528      D12529  \\\n",
            "count  174.000000  174.000000  174.000000  174.000000  174.000000  174.000000   \n",
            "mean    -1.327586   93.120690  138.028736    2.839080   97.948276   62.850575   \n",
            "std     96.165089   45.964957   67.895485   44.568288   95.784336   80.848968   \n",
            "min   -235.000000   12.000000  -26.000000 -146.000000 -349.000000 -184.000000   \n",
            "25%    -54.750000   59.250000   92.250000  -20.500000   46.000000   16.000000   \n",
            "50%     -5.500000   87.500000  131.500000    7.000000  113.000000   43.000000   \n",
            "75%     41.000000  118.750000  169.500000   33.500000  155.500000   96.750000   \n",
            "max    452.000000  270.000000  414.000000  100.000000  480.000000  485.000000   \n",
            "\n",
            "           D12530      D12531       D12532       D12533  \n",
            "count  174.000000  174.000000   174.000000   174.000000  \n",
            "mean   102.396552   12.913793   206.942529  -220.873563  \n",
            "std    127.692587   27.441552   402.505214   217.480811  \n",
            "min    -75.000000  -56.000000    37.000000  -992.000000  \n",
            "25%     20.500000   -4.000000    96.000000  -332.500000  \n",
            "50%     73.500000   10.000000   142.000000  -208.500000  \n",
            "75%    145.000000   25.500000   210.500000  -142.000000  \n",
            "max    896.000000  109.000000  4888.000000  1351.000000  \n",
            "\n",
            "[8 rows x 12534 columns]\n"
          ]
        }
      ]
    },
    {
      "cell_type": "markdown",
      "source": [
        "## Limpieza y detección de valores atípicos"
      ],
      "metadata": {
        "id": "cEFPCoFMzZIG"
      }
    },
    {
      "cell_type": "markdown",
      "source": [
        "Vamos a ver si la columna clase está bien definida"
      ],
      "metadata": {
        "id": "S6n9HIbw47RG"
      }
    },
    {
      "cell_type": "code",
      "source": [
        "print(data['Class'].unique())\n",
        "print(data['Class'].value_counts())\n"
      ],
      "metadata": {
        "colab": {
          "base_uri": "https://localhost:8080/"
        },
        "id": "u3Jou8nS4-F-",
        "outputId": "1d162336-d534-447d-d243-cdf44f7ed676"
      },
      "execution_count": 11,
      "outputs": [
        {
          "output_type": "stream",
          "name": "stdout",
          "text": [
            "[ 7  1  2  3  4  5  6  0  8  9 10]\n",
            "Class\n",
            "0     27\n",
            "2     26\n",
            "7     26\n",
            "3     23\n",
            "9     14\n",
            "10    14\n",
            "4     12\n",
            "5     11\n",
            "1      8\n",
            "6      7\n",
            "8      6\n",
            "Name: count, dtype: int64\n"
          ]
        }
      ]
    },
    {
      "cell_type": "markdown",
      "source": [
        "Vamos a tomar 5 genes de forma aleatoria para ver si hay valores atípicos"
      ],
      "metadata": {
        "id": "czTKbPo45JXF"
      }
    },
    {
      "cell_type": "code",
      "source": [
        "# Para 5 genes aleatorios\n",
        "print(data.iloc[:, [0, 100, 1000, 2000, 5000]].describe())\n",
        "\n",
        "# Todo muy normal"
      ],
      "metadata": {
        "colab": {
          "base_uri": "https://localhost:8080/"
        },
        "id": "7mByTu2R5NKs",
        "outputId": "f8c1b281-c7e0-430f-a203-e22016fe63ec"
      },
      "execution_count": 12,
      "outputs": [
        {
          "output_type": "stream",
          "name": "stdout",
          "text": [
            "            Class        D100       D1000       D2000       D5000\n",
            "count  174.000000  174.000000  174.000000  174.000000  174.000000\n",
            "mean     4.425287  274.471264   20.965517 -130.764368  -12.017241\n",
            "std      3.245743  106.002382   20.184953  114.371955   24.154243\n",
            "min      0.000000  103.000000  -25.000000 -943.000000  -96.000000\n",
            "25%      2.000000  191.250000    8.000000 -184.250000  -23.750000\n",
            "50%      4.000000  254.000000   18.000000 -108.500000  -12.000000\n",
            "75%      7.000000  334.750000   29.750000  -69.000000    4.000000\n",
            "max     10.000000  715.000000  104.000000  121.000000   48.000000\n"
          ]
        }
      ]
    },
    {
      "cell_type": "markdown",
      "source": [
        "histograma de valores de todos los genes"
      ],
      "metadata": {
        "id": "EteT8iCO5b61"
      }
    },
    {
      "cell_type": "code",
      "source": [
        "import seaborn as sns\n",
        "\n",
        "# Tomar una muestra de 100 genes aleatorios\n",
        "sampled_genes = data.drop(columns='Class').sample(100, axis=1, random_state=42)\n",
        "\n",
        "# Histograma combinado\n",
        "plt.figure(figsize=(10, 6))\n",
        "sns.histplot(sampled_genes.values.flatten(), bins=100, kde=True)\n",
        "plt.title(\"Distribución general de los valores de expresión génica\")\n",
        "plt.xlabel(\"Valor de expresión\")\n",
        "plt.ylabel(\"Frecuencia\")\n",
        "plt.show()\n"
      ],
      "metadata": {
        "colab": {
          "base_uri": "https://localhost:8080/",
          "height": 574
        },
        "id": "KLsDLV-O5iys",
        "outputId": "b50bb8e6-824a-4773-f955-3a67dc51ea80"
      },
      "execution_count": 13,
      "outputs": [
        {
          "output_type": "display_data",
          "data": {
            "text/plain": [
              "<Figure size 1000x600 with 1 Axes>"
            ],
            "image/png": "[encoded data removed]"
          },
          "metadata": {}
        }
      ]
    },
    {
      "cell_type": "markdown",
      "source": [
        "* Hay valores que se extienden hasta más de 17.000, lo cual indica la presencia de valores extremos, aunque poco frecuentes\n",
        "\n",
        "* El gráfico muestra una distribución altamente sesgada a la derecha (right-skewed), con la mayoría de los valores de expresión cercanos a 0–500.\n",
        "\n",
        "\n",
        "## Conclusión para esta etapa\n",
        "* No se justifica eliminar genes ni muestras aún. En cambio:\n",
        "\n",
        "## Próximos pasos para limpieza efectiva:\n",
        "1. Normalizar o escalar los datos → imprescindible para PCA, t-SNE y ML.\n",
        "\n",
        "2. Detectar y eliminar posibles muestras atípicas solo después del escalado (si vemos cosas raras en visualización).\n",
        "\n",
        "3. No eliminar outliers en esta etapa, porque los métodos de selección de características (más adelante) van a filtrar muchos genes irrelevantes."
      ],
      "metadata": {
        "id": "2XNVFEAu59ys"
      }
    },
    {
      "cell_type": "markdown",
      "source": [
        "# Preprocesamiento y selección de características"
      ],
      "metadata": {
        "id": "1x4aH8H_zloa"
      }
    },
    {
      "cell_type": "markdown",
      "source": [
        "## Normalización/Estandarización"
      ],
      "metadata": {
        "id": "JQoKcQoszoi1"
      }
    },
    {
      "cell_type": "markdown",
      "source": [
        "Separar feactures y etiquetas"
      ],
      "metadata": {
        "id": "acfhLahk7OmT"
      }
    },
    {
      "cell_type": "code",
      "source": [
        "# 'Class' es la última columna\n",
        "X = data.drop(columns=\"Class\").values\n",
        "y = data[\"Class\"].values\n"
      ],
      "metadata": {
        "id": "z7EJhTdn7Q81"
      },
      "execution_count": 14,
      "outputs": []
    },
    {
      "cell_type": "markdown",
      "source": [
        "Estandarizar con StandardScaler"
      ],
      "metadata": {
        "id": "_8XL6b_Z7XIC"
      }
    },
    {
      "cell_type": "code",
      "source": [
        "scaler = StandardScaler()\n",
        "X_scaled = scaler.fit_transform(X)\n"
      ],
      "metadata": {
        "id": "UIukeA8K7YP5"
      },
      "execution_count": 15,
      "outputs": []
    },
    {
      "cell_type": "markdown",
      "source": [
        "Verificación"
      ],
      "metadata": {
        "id": "hRpNck6-7uGe"
      }
    },
    {
      "cell_type": "code",
      "source": [
        "print(\"Media por gen (debería ser ≈0):\", np.mean(X_scaled, axis=0)[:5])\n",
        "print(\"Desviación estándar por gen (≈1):\", np.std(X_scaled, axis=0)[:5])"
      ],
      "metadata": {
        "colab": {
          "base_uri": "https://localhost:8080/"
        },
        "id": "SJ5FrTr47wKJ",
        "outputId": "7c4f8038-43f8-4e85-ea39-b0eed4b5cfb8"
      },
      "execution_count": 16,
      "outputs": [
        {
          "output_type": "stream",
          "name": "stdout",
          "text": [
            "Media por gen (debería ser ≈0): [-6.12536841e-17 -1.02089474e-16 -1.42925263e-16 -2.04178947e-17\n",
            "  5.74253289e-17]\n",
            "Desviación estándar por gen (≈1): [1. 1. 1. 1. 1.]\n"
          ]
        }
      ]
    },
    {
      "cell_type": "markdown",
      "source": [
        "## Reducción de dimensión / selección de genes"
      ],
      "metadata": {
        "id": "aFm0ud_7zrek"
      }
    },
    {
      "cell_type": "markdown",
      "source": [
        "instanciar PCA"
      ],
      "metadata": {
        "id": "X4wnvyln8feN"
      }
    },
    {
      "cell_type": "code",
      "source": [
        "# Queremos obtener suficientes componentes para visualizar la varianza explicada\n",
        "pca = PCA()\n",
        "X_pca = pca.fit_transform(X_scaled)"
      ],
      "metadata": {
        "id": "zFG6FQ328iK6"
      },
      "execution_count": 17,
      "outputs": []
    },
    {
      "cell_type": "markdown",
      "source": [
        "Visualizar varianza explicada acomulada"
      ],
      "metadata": {
        "id": "9anGnCh08oJw"
      }
    },
    {
      "cell_type": "code",
      "source": [
        "# Varianza explicada acumulada\n",
        "explained_variance_ratio = np.cumsum(pca.explained_variance_ratio_)\n",
        "\n",
        "# Plot\n",
        "plt.figure(figsize=(10, 6))\n",
        "plt.plot(explained_variance_ratio, marker='o')\n",
        "plt.axhline(y=0.95, color='r', linestyle='--', label='95% de varianza')\n",
        "plt.axhline(y=0.99, color='g', linestyle='--', label='99% de varianza')\n",
        "plt.xlabel('Número de componentes principales')\n",
        "plt.ylabel('Varianza explicada acumulada')\n",
        "plt.title('Reducción de dimensión por PCA')\n",
        "plt.grid(True)\n",
        "plt.legend()\n",
        "plt.tight_layout()\n",
        "plt.show()\n"
      ],
      "metadata": {
        "colab": {
          "base_uri": "https://localhost:8080/",
          "height": 601
        },
        "id": "d1kJvujw8qgc",
        "outputId": "76bedc22-c83b-4a25-c51b-644ca27aa1f1"
      },
      "execution_count": 18,
      "outputs": [
        {
          "output_type": "display_data",
          "data": {
            "text/plain": [
              "<Figure size 1000x600 with 1 Axes>"
            ],
            "image/png": "[encoded data removed]"
          },
          "metadata": {}
        }
      ]
    },
    {
      "cell_type": "markdown",
      "source": [
        "Acá voy a escoger un número de componentes de 140, ya que un rango entre ~ 130 - 150 tiene la varianza del 95% aproximadamente\n",
        "\n",
        "* Cabe resaltar que en el paper, cuando no escalan usan 83 componentes, mientras escalado usan 113, considero que este es el punto de quiebre entre el paper y lo que estoy realizando, tomo más componentes,"
      ],
      "metadata": {
        "id": "YvyyNizl85Gp"
      }
    },
    {
      "cell_type": "code",
      "source": [
        "pca = PCA(n_components=0.96, svd_solver='full', tol=1e-4)\n",
        "X_reduced = pca.fit_transform(X_scaled)\n",
        "print(\"Componentes usados:\", pca.n_components_)\n"
      ],
      "metadata": {
        "colab": {
          "base_uri": "https://localhost:8080/"
        },
        "id": "HpqWTTWV92wU",
        "outputId": "d1f6a7a7-960d-40b2-d1ce-26f2fbc384f3"
      },
      "execution_count": 19,
      "outputs": [
        {
          "output_type": "stream",
          "name": "stdout",
          "text": [
            "Componentes usados: 141\n"
          ]
        }
      ]
    },
    {
      "cell_type": "markdown",
      "source": [
        "Al final toma un valor muy cercano al que había decidido tomar, cambia seguro porque en el paper al igual que en mi producción de este se usa una varianza del 96%"
      ],
      "metadata": {
        "id": "9NZUixsy-3ZR"
      }
    },
    {
      "cell_type": "markdown",
      "source": [
        "## Estrategia de particionado"
      ],
      "metadata": {
        "id": "TU9tzHtgzxXC"
      }
    },
    {
      "cell_type": "code",
      "source": [
        "X_train, X_test, y_train, y_test = train_test_split(\n",
        "    X_reduced, y, test_size=0.2, stratify=y, random_state=42\n",
        ")\n"
      ],
      "metadata": {
        "id": "JsOjEhxB_Qz2"
      },
      "execution_count": 20,
      "outputs": []
    },
    {
      "cell_type": "markdown",
      "source": [
        "### Punto de quiebre con el paper:\n",
        "\n",
        "* Voy a balancear las clases en train, esto fue algo que no se hizo en el paper"
      ],
      "metadata": {
        "id": "o8JyUfXUAXqQ"
      }
    },
    {
      "cell_type": "code",
      "source": [
        "pd.Series(y_train).value_counts()"
      ],
      "metadata": {
        "colab": {
          "base_uri": "https://localhost:8080/",
          "height": 429
        },
        "id": "hPfpB015BQTZ",
        "outputId": "3247034e-f8b1-449a-bef3-be66050f515f"
      },
      "execution_count": 21,
      "outputs": [
        {
          "output_type": "execute_result",
          "data": {
            "text/plain": [
              "2     21\n",
              "0     21\n",
              "7     21\n",
              "3     18\n",
              "9     11\n",
              "10    11\n",
              "4     10\n",
              "5      9\n",
              "1      6\n",
              "6      6\n",
              "8      5\n",
              "Name: count, dtype: int64"
            ],
            "text/html": [
              "<div>\n",
              "<style scoped>\n",
              "    .dataframe tbody tr th:only-of-type {\n",
              "        vertical-align: middle;\n",
              "    }\n",
              "\n",
              "    .dataframe tbody tr th {\n",
              "        vertical-align: top;\n",
              "    }\n",
              "\n",
              "    .dataframe thead th {\n",
              "        text-align: right;\n",
              "    }\n",
              "</style>\n",
              "<table border=\"1\" class=\"dataframe\">\n",
              "  <thead>\n",
              "    <tr style=\"text-align: right;\">\n",
              "      <th></th>\n",
              "      <th>count</th>\n",
              "    </tr>\n",
              "  </thead>\n",
              "  <tbody>\n",
              "    <tr>\n",
              "      <th>2</th>\n",
              "      <td>21</td>\n",
              "    </tr>\n",
              "    <tr>\n",
              "      <th>0</th>\n",
              "      <td>21</td>\n",
              "    </tr>\n",
              "    <tr>\n",
              "      <th>7</th>\n",
              "      <td>21</td>\n",
              "    </tr>\n",
              "    <tr>\n",
              "      <th>3</th>\n",
              "      <td>18</td>\n",
              "    </tr>\n",
              "    <tr>\n",
              "      <th>9</th>\n",
              "      <td>11</td>\n",
              "    </tr>\n",
              "    <tr>\n",
              "      <th>10</th>\n",
              "      <td>11</td>\n",
              "    </tr>\n",
              "    <tr>\n",
              "      <th>4</th>\n",
              "      <td>10</td>\n",
              "    </tr>\n",
              "    <tr>\n",
              "      <th>5</th>\n",
              "      <td>9</td>\n",
              "    </tr>\n",
              "    <tr>\n",
              "      <th>1</th>\n",
              "      <td>6</td>\n",
              "    </tr>\n",
              "    <tr>\n",
              "      <th>6</th>\n",
              "      <td>6</td>\n",
              "    </tr>\n",
              "    <tr>\n",
              "      <th>8</th>\n",
              "      <td>5</td>\n",
              "    </tr>\n",
              "  </tbody>\n",
              "</table>\n",
              "</div><br><label><b>dtype:</b> int64</label>"
            ]
          },
          "metadata": {},
          "execution_count": 21
        }
      ]
    },
    {
      "cell_type": "code",
      "source": [
        "from imblearn.over_sampling import SMOTE\n",
        "\n",
        "smote = SMOTE(k_neighbors=4,random_state=42)\n",
        "X_train_balanced, y_train_balanced = smote.fit_resample(X_train, y_train)\n"
      ],
      "metadata": {
        "id": "THhxvEeBAfea"
      },
      "execution_count": 22,
      "outputs": []
    },
    {
      "cell_type": "markdown",
      "source": [
        "Verificamos que quedó balanceado"
      ],
      "metadata": {
        "id": "IUDAVmnNA21q"
      }
    },
    {
      "cell_type": "code",
      "source": [
        "\n",
        "unique, counts = np.unique(y_train_balanced, return_counts=True)\n",
        "balance_df = pd.DataFrame({\"Class\": unique, \"Count\": counts})\n",
        "print(balance_df)\n"
      ],
      "metadata": {
        "colab": {
          "base_uri": "https://localhost:8080/"
        },
        "id": "T6jA5JwuA4y4",
        "outputId": "d83ea83e-0236-4f94-8535-687d80bad9f6"
      },
      "execution_count": 23,
      "outputs": [
        {
          "output_type": "stream",
          "name": "stdout",
          "text": [
            "    Class  Count\n",
            "0       0     21\n",
            "1       1     21\n",
            "2       2     21\n",
            "3       3     21\n",
            "4       4     21\n",
            "5       5     21\n",
            "6       6     21\n",
            "7       7     21\n",
            "8       8     21\n",
            "9       9     21\n",
            "10     10     21\n"
          ]
        }
      ]
    },
    {
      "cell_type": "markdown",
      "source": [
        "# Modelado: algoritmos de ML"
      ],
      "metadata": {
        "id": "LSdjGz0Hz1SS"
      }
    },
    {
      "cell_type": "markdown",
      "source": [
        "### Logistic Regression\n"
      ],
      "metadata": {
        "id": "LKiy-cZkz9E_"
      }
    },
    {
      "cell_type": "code",
      "source": [
        "# 1.1. Entrenar para balanceado\n",
        "lr = LogisticRegression(max_iter=1000, random_state=42)\n",
        "lr.fit(X_train_balanced, y_train_balanced)\n",
        "\n",
        "# 1.2. Entrenar sin balancear\n",
        "lr_no_balanceado = LogisticRegression(C=0.1, max_iter=1000, random_state=42)\n",
        "lr_no_balanceado.fit(X_train, y_train)\n",
        "\n",
        "# 2. Predecir\n",
        "y_pred = lr.predict(X_test)\n",
        "y_pred_no_balanceado = lr_no_balanceado.predict(X_test)\n",
        "\n",
        "# 3. Reporte de métricas\n",
        "print(\"=== Logistic Regression ===\")\n",
        "print(classification_report(y_test, y_pred))\n",
        "print(\"=== Logistic Regression (sin balanceo) ===\")\n",
        "print(classification_report(y_test, y_pred_no_balanceado))\n",
        "\n",
        "# 4. Matriz de confusión\n",
        "conf_matrix = confusion_matrix(y_test, y_pred)\n",
        "plt.figure(figsize=(8,6))\n",
        "sns.heatmap(conf_matrix, annot=True, fmt='d', cmap='Blues')\n",
        "plt.title(\"Confusion Matrix - Logistic Regression\")\n",
        "plt.xlabel(\"Predicted\")\n",
        "plt.ylabel(\"Actual\")\n",
        "plt.show()\n",
        "\n",
        "print()\n",
        "\n",
        "# 4. Matriz de confusión\n",
        "conf_matrix = confusion_matrix(y_test, y_pred_no_balanceado)\n",
        "plt.figure(figsize=(8,6))\n",
        "sns.heatmap(conf_matrix, annot=True, fmt='d', cmap='Blues')\n",
        "plt.title(\"Confusion Matrix - Logistic Regression no balanceado\")\n",
        "plt.xlabel(\"Predicted\")\n",
        "plt.ylabel(\"Actual\")\n",
        "plt.show()"
      ],
      "metadata": {
        "colab": {
          "base_uri": "https://localhost:8080/",
          "height": 1000
        },
        "id": "j7gNM704CL8t",
        "outputId": "c7fb850d-1480-4da7-fd1e-daa1effdeedd"
      },
      "execution_count": 29,
      "outputs": [
        {
          "output_type": "stream",
          "name": "stdout",
          "text": [
            "=== Logistic Regression ===\n",
            "              precision    recall  f1-score   support\n",
            "\n",
            "           0       1.00      0.67      0.80         6\n",
            "           1       1.00      0.50      0.67         2\n",
            "           2       0.67      0.80      0.73         5\n",
            "           3       1.00      1.00      1.00         5\n",
            "           4       1.00      1.00      1.00         2\n",
            "           5       1.00      1.00      1.00         2\n",
            "           6       1.00      1.00      1.00         1\n",
            "           7       1.00      1.00      1.00         5\n",
            "           8       1.00      1.00      1.00         1\n",
            "           9       0.67      0.67      0.67         3\n",
            "          10       0.60      1.00      0.75         3\n",
            "\n",
            "    accuracy                           0.86        35\n",
            "   macro avg       0.90      0.88      0.87        35\n",
            "weighted avg       0.89      0.86      0.86        35\n",
            "\n",
            "=== Logistic Regression (sin balanceo) ===\n",
            "              precision    recall  f1-score   support\n",
            "\n",
            "           0       1.00      0.67      0.80         6\n",
            "           1       1.00      0.50      0.67         2\n",
            "           2       0.62      1.00      0.77         5\n",
            "           3       1.00      1.00      1.00         5\n",
            "           4       1.00      1.00      1.00         2\n",
            "           5       1.00      1.00      1.00         2\n",
            "           6       0.00      0.00      0.00         1\n",
            "           7       1.00      1.00      1.00         5\n",
            "           8       0.00      0.00      0.00         1\n",
            "           9       0.67      0.67      0.67         3\n",
            "          10       0.60      1.00      0.75         3\n",
            "\n",
            "    accuracy                           0.83        35\n",
            "   macro avg       0.72      0.71      0.70        35\n",
            "weighted avg       0.83      0.83      0.81        35\n",
            "\n"
          ]
        },
        {
          "output_type": "stream",
          "name": "stderr",
          "text": [
            "/usr/local/lib/python3.11/dist-packages/sklearn/metrics/_classification.py:1565: UndefinedMetricWarning: Precision is ill-defined and being set to 0.0 in labels with no predicted samples. Use `zero_division` parameter to control this behavior.\n",
            "  _warn_prf(average, modifier, f\"{metric.capitalize()} is\", len(result))\n",
            "/usr/local/lib/python3.11/dist-packages/sklearn/metrics/_classification.py:1565: UndefinedMetricWarning: Precision is ill-defined and being set to 0.0 in labels with no predicted samples. Use `zero_division` parameter to control this behavior.\n",
            "  _warn_prf(average, modifier, f\"{metric.capitalize()} is\", len(result))\n",
            "/usr/local/lib/python3.11/dist-packages/sklearn/metrics/_classification.py:1565: UndefinedMetricWarning: Precision is ill-defined and being set to 0.0 in labels with no predicted samples. Use `zero_division` parameter to control this behavior.\n",
            "  _warn_prf(average, modifier, f\"{metric.capitalize()} is\", len(result))\n"
          ]
        },
        {
          "output_type": "display_data",
          "data": {
            "text/plain": [
              "<Figure size 800x600 with 2 Axes>"
            ],
            "image/png": "[encoded data removed]"
          },
          "metadata": {}
        },
        {
          "output_type": "stream",
          "name": "stdout",
          "text": [
            "\n"
          ]
        },
        {
          "output_type": "display_data",
          "data": {
            "text/plain": [
              "<Figure size 800x600 with 2 Axes>"
            ],
            "image/png": "[encoded data removed]"
          },
          "metadata": {}
        }
      ]
    },
    {
      "cell_type": "markdown",
      "source": [
        "Accuracy: 86%\n",
        "\n",
        "Macro avg F1: 0.87\n",
        "\n",
        "Weighted avg F1: 0.86\n",
        "\n",
        "Es un resultado bueno a pesar de la variedad de clases, claramente no es el mejos, se obverva buen f1 score en las clases desde la 3 a la 8, con 1 en el recal y presicion, osea, predicciones perfectas, pero:\n",
        "\n",
        "* Clases 1 y 0 tuvieron recall bajo (50 % y 67 %)\n",
        "* Clase 2 tiene precision menor (0.67), puede que se confunda con otras\n",
        "* Clase 10 predijo bien (recall 1.00), pero con precisión 0.60 (falsos positivos).\n",
        "\n",
        "Cabe resaltar que esa precisión perfecta puede ser por la poca cantidad de muestras, al igual que los errores grandes.\n",
        "\n",
        "Traté también de comprar con los datoos sin balancear, encuentro que los resultados son los mismos, a pesar de que hay un cambio en el accuracy, teniendo más el modelo donde los datos no están balanceados, es lo mismo, en realidad cometieron los mismos erroes ambos modelos y no considero tomarlo en cuenta, claro, si la estoy cagando con esto, ya en las siguientes tareas me daré de cuenta de mi error."
      ],
      "metadata": {
        "id": "X3CEf1qLC8IJ"
      }
    },
    {
      "cell_type": "markdown",
      "source": [
        "### Support Vector Machine"
      ],
      "metadata": {
        "id": "sIYzKlQ5z-xw"
      }
    },
    {
      "cell_type": "code",
      "source": [
        "# 1. Crear el modelo\n",
        "svm = SVC(class_weight='balanced', kernel='rbf', C=1.0, gamma='scale', random_state=42)\n",
        "\n",
        "# 2. Entrenar con datos balanceados\n",
        "svm.fit(X_train_balanced, y_train_balanced)\n",
        "\n",
        "# 3. Predecir sobre validación\n",
        "y_pred_svm = svm.predict(X_test)\n",
        "\n",
        "# 4. Reporte\n",
        "print(\"=== Support Vector Machine (SVM) ===\")\n",
        "print(classification_report(y_test, y_pred_svm))\n",
        "\n",
        "# 5. Matriz de confusión\n",
        "conf_matrix = confusion_matrix(y_test, y_pred_svm)\n",
        "plt.figure(figsize=(8,6))\n",
        "sns.heatmap(conf_matrix, annot=True, fmt='d', cmap='Purples')\n",
        "plt.title(\"Confusion Matrix - SVM\")\n",
        "plt.xlabel(\"Predicted\")\n",
        "plt.ylabel(\"Actual\")\n",
        "plt.show()\n"
      ],
      "metadata": {
        "colab": {
          "base_uri": "https://localhost:8080/",
          "height": 1000
        },
        "id": "dBlejeWgEK9l",
        "outputId": "ba0b874d-b8a5-4cc8-f233-cc4509b58bf4"
      },
      "execution_count": 25,
      "outputs": [
        {
          "output_type": "stream",
          "name": "stdout",
          "text": [
            "=== Support Vector Machine (SVM) ===\n",
            "              precision    recall  f1-score   support\n",
            "\n",
            "           0       1.00      0.67      0.80         6\n",
            "           1       0.00      0.00      0.00         2\n",
            "           2       0.36      1.00      0.53         5\n",
            "           3       0.83      1.00      0.91         5\n",
            "           4       1.00      0.50      0.67         2\n",
            "           5       1.00      0.50      0.67         2\n",
            "           6       0.00      0.00      0.00         1\n",
            "           7       1.00      1.00      1.00         5\n",
            "           8       0.00      0.00      0.00         1\n",
            "           9       1.00      0.33      0.50         3\n",
            "          10       1.00      1.00      1.00         3\n",
            "\n",
            "    accuracy                           0.71        35\n",
            "   macro avg       0.65      0.55      0.55        35\n",
            "weighted avg       0.77      0.71      0.69        35\n",
            "\n"
          ]
        },
        {
          "output_type": "stream",
          "name": "stderr",
          "text": [
            "/usr/local/lib/python3.11/dist-packages/sklearn/metrics/_classification.py:1565: UndefinedMetricWarning: Precision is ill-defined and being set to 0.0 in labels with no predicted samples. Use `zero_division` parameter to control this behavior.\n",
            "  _warn_prf(average, modifier, f\"{metric.capitalize()} is\", len(result))\n",
            "/usr/local/lib/python3.11/dist-packages/sklearn/metrics/_classification.py:1565: UndefinedMetricWarning: Precision is ill-defined and being set to 0.0 in labels with no predicted samples. Use `zero_division` parameter to control this behavior.\n",
            "  _warn_prf(average, modifier, f\"{metric.capitalize()} is\", len(result))\n",
            "/usr/local/lib/python3.11/dist-packages/sklearn/metrics/_classification.py:1565: UndefinedMetricWarning: Precision is ill-defined and being set to 0.0 in labels with no predicted samples. Use `zero_division` parameter to control this behavior.\n",
            "  _warn_prf(average, modifier, f\"{metric.capitalize()} is\", len(result))\n"
          ]
        },
        {
          "output_type": "display_data",
          "data": {
            "text/plain": [
              "<Figure size 800x600 with 2 Axes>"
            ],
            "image/png": "[encoded data removed]"
          },
          "metadata": {}
        }
      ]
    },
    {
      "cell_type": "markdown",
      "source": [
        "### Análisis de errores\n",
        "Clases mal clasificadas o no detectadas:\n",
        "* Clase 1: F1-score = 0.00 → el modelo no la detectó en absoluto.\n",
        "\n",
        "* Clase 6 y 8: recall 0.00 → también completamente omitidas.\n",
        "\n",
        "* Clase 9: solo 1 de 3 fue correctamente clasificada.\n",
        "\n",
        "Muchas confusiones hacia clase 2 (fue sobrepredicha)."
      ],
      "metadata": {
        "id": "LgG0QRJgFBOa"
      }
    },
    {
      "cell_type": "markdown",
      "source": [
        "### Random Forest"
      ],
      "metadata": {
        "id": "2HIbSGxq0Es1"
      }
    },
    {
      "cell_type": "code",
      "source": [
        "\n",
        "# 1. Crear el modelo\n",
        "rf = RandomForestClassifier(\n",
        "    n_estimators=100,       # número de árboles\n",
        "    max_depth=None,         # sin límite de profundidad\n",
        "    class_weight='balanced',# balanceo automático por si acaso\n",
        "    random_state=42\n",
        ")\n",
        "\n",
        "# 2. Entrenar con datos balanceados\n",
        "rf.fit(X_train_balanced, y_train_balanced)\n",
        "\n",
        "# 3. Predecir sobre validación\n",
        "y_pred_rf = rf.predict(X_test)\n",
        "\n",
        "# 4. Reporte\n",
        "print(\"=== Random Forest ===\")\n",
        "print(classification_report(y_test, y_pred_rf))\n",
        "\n",
        "# 5. Matriz de confusión\n",
        "conf_matrix = confusion_matrix(y_test, y_pred_rf)\n",
        "plt.figure(figsize=(8,6))\n",
        "sns.heatmap(conf_matrix, annot=True, fmt='d', cmap='Greens')\n",
        "plt.title(\"Confusion Matrix - Random Forest\")\n",
        "plt.xlabel(\"Predicted\")\n",
        "plt.ylabel(\"Actual\")\n",
        "plt.show()\n"
      ],
      "metadata": {
        "colab": {
          "base_uri": "https://localhost:8080/",
          "height": 1000
        },
        "id": "IN6B8lklFvv1",
        "outputId": "474f6559-77f3-4da0-9066-43e60a2e53b0"
      },
      "execution_count": 26,
      "outputs": [
        {
          "output_type": "stream",
          "name": "stdout",
          "text": [
            "=== Random Forest ===\n",
            "              precision    recall  f1-score   support\n",
            "\n",
            "           0       0.83      0.83      0.83         6\n",
            "           1       1.00      1.00      1.00         2\n",
            "           2       0.57      0.80      0.67         5\n",
            "           3       1.00      1.00      1.00         5\n",
            "           4       1.00      0.50      0.67         2\n",
            "           5       1.00      0.50      0.67         2\n",
            "           6       1.00      1.00      1.00         1\n",
            "           7       1.00      1.00      1.00         5\n",
            "           8       0.00      0.00      0.00         1\n",
            "           9       0.50      0.67      0.57         3\n",
            "          10       1.00      1.00      1.00         3\n",
            "\n",
            "    accuracy                           0.83        35\n",
            "   macro avg       0.81      0.75      0.76        35\n",
            "weighted avg       0.84      0.83      0.82        35\n",
            "\n"
          ]
        },
        {
          "output_type": "stream",
          "name": "stderr",
          "text": [
            "/usr/local/lib/python3.11/dist-packages/sklearn/metrics/_classification.py:1565: UndefinedMetricWarning: Precision is ill-defined and being set to 0.0 in labels with no predicted samples. Use `zero_division` parameter to control this behavior.\n",
            "  _warn_prf(average, modifier, f\"{metric.capitalize()} is\", len(result))\n",
            "/usr/local/lib/python3.11/dist-packages/sklearn/metrics/_classification.py:1565: UndefinedMetricWarning: Precision is ill-defined and being set to 0.0 in labels with no predicted samples. Use `zero_division` parameter to control this behavior.\n",
            "  _warn_prf(average, modifier, f\"{metric.capitalize()} is\", len(result))\n",
            "/usr/local/lib/python3.11/dist-packages/sklearn/metrics/_classification.py:1565: UndefinedMetricWarning: Precision is ill-defined and being set to 0.0 in labels with no predicted samples. Use `zero_division` parameter to control this behavior.\n",
            "  _warn_prf(average, modifier, f\"{metric.capitalize()} is\", len(result))\n"
          ]
        },
        {
          "output_type": "display_data",
          "data": {
            "text/plain": [
              "<Figure size 800x600 with 2 Axes>"
            ],
            "image/png": "[encoded data removed]"
          },
          "metadata": {}
        }
      ]
    },
    {
      "cell_type": "markdown",
      "source": [
        "Accuracy\t83%\n",
        "\n",
        "Macro F1-score\t0.76\n",
        "\n",
        "Weighted F1-score\t0.82\n",
        "\n",
        "* Clases 1, 3, 6, 7, 10: predicción perfecta (precision y recall = 1.0).\n",
        "\n",
        "* Clase 0 y 2: desempeño aceptable (83 % y 67 % F1).\n",
        "\n",
        "* Clase 8: completamente omitida (0.0 en todas las métricas).\n",
        "\n",
        "* Clases 4, 5 y 9: recall o precision algo flojos (50 %-67 %).\n",
        "\n",
        "Logistic Regression sigue liderando, pero RF le pisa los talones y podría mejorar con tuning\n",
        "\n"
      ],
      "metadata": {
        "id": "4lCGkHyuGHyv"
      }
    },
    {
      "cell_type": "markdown",
      "source": [
        "### K‑Nearest Neighbors"
      ],
      "metadata": {
        "id": "OTvTJLlP0JJO"
      }
    },
    {
      "cell_type": "code",
      "source": [
        "# 1. Crear el modelo\n",
        "knn = KNeighborsClassifier(n_neighbors=1)\n",
        "\n",
        "# 2. Entrenar con datos balanceados\n",
        "knn.fit(X_train_balanced, y_train_balanced)\n",
        "\n",
        "# 3. Predecir sobre validación\n",
        "y_pred_knn = knn.predict(X_test)\n",
        "\n",
        "# 4. Reporte\n",
        "print(\"=== K-Nearest Neighbors (k-NN) ===\")\n",
        "print(classification_report(y_test, y_pred_knn))\n",
        "\n",
        "# 5. Matriz de confusión\n",
        "conf_matrix = confusion_matrix(y_test, y_pred_knn)\n",
        "plt.figure(figsize=(8,6))\n",
        "sns.heatmap(conf_matrix, annot=True, fmt='d', cmap='Oranges')\n",
        "plt.title(\"Confusion Matrix - k-NN (k=3)\")\n",
        "plt.xlabel(\"Predicted\")\n",
        "plt.ylabel(\"Actual\")\n",
        "plt.show()\n"
      ],
      "metadata": {
        "colab": {
          "base_uri": "https://localhost:8080/",
          "height": 903
        },
        "id": "wn-vZB4xHec5",
        "outputId": "8cff95ee-b506-4734-ef7e-3eed1c24ee90"
      },
      "execution_count": 27,
      "outputs": [
        {
          "output_type": "stream",
          "name": "stdout",
          "text": [
            "=== K-Nearest Neighbors (k-NN) ===\n",
            "              precision    recall  f1-score   support\n",
            "\n",
            "           0       0.67      0.67      0.67         6\n",
            "           1       1.00      0.50      0.67         2\n",
            "           2       0.75      0.60      0.67         5\n",
            "           3       0.83      1.00      0.91         5\n",
            "           4       1.00      0.50      0.67         2\n",
            "           5       1.00      1.00      1.00         2\n",
            "           6       1.00      1.00      1.00         1\n",
            "           7       1.00      1.00      1.00         5\n",
            "           8       1.00      1.00      1.00         1\n",
            "           9       0.33      0.33      0.33         3\n",
            "          10       0.40      0.67      0.50         3\n",
            "\n",
            "    accuracy                           0.74        35\n",
            "   macro avg       0.82      0.75      0.76        35\n",
            "weighted avg       0.77      0.74      0.74        35\n",
            "\n"
          ]
        },
        {
          "output_type": "display_data",
          "data": {
            "text/plain": [
              "<Figure size 800x600 with 2 Axes>"
            ],
            "image/png": "[encoded data removed]"
          },
          "metadata": {}
        }
      ]
    },
    {
      "cell_type": "markdown",
      "source": [
        "Accuracy\t74 %\n",
        "\n",
        "Macro F1-score\t0.76\n",
        "\n",
        "Weighted F1-score\t0.74\n",
        "\n",
        "**Observaciones:**\n",
        "\n",
        "* Clases 3, 5, 6, 7, 8: F1-score = 1.00\n",
        "\n",
        "* Clase 2: desempeño aceptable\n",
        "\n",
        "* Mejor que SVM, cercano a Random Forest\n",
        "\n",
        "* Clase 9: F1-score = 0.33 → solo se clasificó correctamente 1 de 3\n",
        "\n",
        "* Clase 10: precision baja (0.40), aunque recall fue 0.67\n",
        "\n",
        "* Clase 1: solo 1 de 2 detectado"
      ],
      "metadata": {
        "id": "cJRkvz9SIM9i"
      }
    },
    {
      "cell_type": "markdown",
      "source": [
        "### Tuning para el modelo de Logistic Regresion"
      ],
      "metadata": {
        "id": "KHQyvOLH0KzM"
      }
    },
    {
      "cell_type": "code",
      "source": [
        "from sklearn.model_selection import GridSearchCV\n",
        "\n",
        "param_grid = {\n",
        "    'C': [0.01, 0.1, 1, 10, 100]\n",
        "}\n",
        "\n",
        "logreg = LogisticRegression(max_iter=1000, random_state=42)\n",
        "\n",
        "# Realiza validación cruzada para todas las combinaciones\n",
        "grid = GridSearchCV(logreg, param_grid, cv=5, scoring='accuracy')\n",
        "grid.fit(X_train_balanced, y_train_balanced)\n",
        "\n",
        "print(\"Mejor C:\", grid.best_params_)\n",
        "print(\"Accuracy del mejor modelo:\", grid.best_score_)"
      ],
      "metadata": {
        "colab": {
          "base_uri": "https://localhost:8080/"
        },
        "id": "i96_TrkfxA_u",
        "outputId": "eaa00604-efcf-4cfc-9048-c765d9439589"
      },
      "execution_count": 32,
      "outputs": [
        {
          "output_type": "stream",
          "name": "stdout",
          "text": [
            "Mejor C: {'C': 1}\n",
            "Accuracy del mejor modelo: 0.9827012025901943\n"
          ]
        }
      ]
    },
    {
      "cell_type": "code",
      "source": [
        "\n",
        "# Reentrenar con el mejor C encontrado\n",
        "best_logreg = LogisticRegression(C=1, max_iter=1000, random_state=42)\n",
        "best_logreg.fit(X_train_balanced, y_train_balanced)\n",
        "\n",
        "y_pred = best_logreg.predict(X_test)\n",
        "\n",
        "\n",
        "# Reporte\n",
        "print(\"=== Logistic Regression después del tuning ===\")\n",
        "print(classification_report(y_test, y_pred))\n",
        "\n",
        "# Matriz de confusión\n",
        "cm = confusion_matrix(y_test, y_pred)\n",
        "plt.figure(figsize=(8,6))\n",
        "sns.heatmap(cm, annot=True, cmap=\"Blues\", fmt=\"d\")\n",
        "plt.title(\"Confusion Matrix - Logistic Regression (Tuned)\")\n",
        "plt.xlabel(\"Predicted\")\n",
        "plt.ylabel(\"Actual\")\n",
        "plt.show()\n"
      ],
      "metadata": {
        "colab": {
          "base_uri": "https://localhost:8080/",
          "height": 903
        },
        "id": "ng0ceGaPxOIa",
        "outputId": "4b5dfb61-b01a-4481-9507-2a5be932e1c6"
      },
      "execution_count": 34,
      "outputs": [
        {
          "output_type": "stream",
          "name": "stdout",
          "text": [
            "=== Logistic Regression después del tuning ===\n",
            "              precision    recall  f1-score   support\n",
            "\n",
            "           0       1.00      0.67      0.80         6\n",
            "           1       1.00      0.50      0.67         2\n",
            "           2       0.67      0.80      0.73         5\n",
            "           3       1.00      1.00      1.00         5\n",
            "           4       1.00      1.00      1.00         2\n",
            "           5       1.00      1.00      1.00         2\n",
            "           6       1.00      1.00      1.00         1\n",
            "           7       1.00      1.00      1.00         5\n",
            "           8       1.00      1.00      1.00         1\n",
            "           9       0.67      0.67      0.67         3\n",
            "          10       0.60      1.00      0.75         3\n",
            "\n",
            "    accuracy                           0.86        35\n",
            "   macro avg       0.90      0.88      0.87        35\n",
            "weighted avg       0.89      0.86      0.86        35\n",
            "\n"
          ]
        },
        {
          "output_type": "display_data",
          "data": {
            "text/plain": [
              "<Figure size 800x600 with 2 Axes>"
            ],
            "image/png": "[encoded data removed]"
          },
          "metadata": {}
        }
      ]
    },
    {
      "cell_type": "markdown",
      "source": [
        "# Evaluación y comparación"
      ],
      "metadata": {
        "id": "MoLegQf90ak1"
      }
    },
    {
      "cell_type": "markdown",
      "source": [
        "## Comparación de métricas por modelo"
      ],
      "metadata": {
        "id": "bL68zvMz0lEh"
      }
    },
    {
      "cell_type": "markdown",
      "source": [
        "## Evaluación comparativa de modelos de Machine Learning\n",
        "Se evaluaron cinco modelos de clasificación aplicados al conjunto de datos preprocesado (escalado, reducción de dimensión mediante PCA y balanceo con SMOTE). A continuación, se presentan los resultados más relevantes en términos de accuracy, macro promedio y comportamiento por clase:\n",
        "\n",
        "### 1. Logistic Regression (con balanceo y tuning)\n",
        "Accuracy: 0.86\n",
        "\n",
        "Macro F1-score: 0.87\n",
        "\n",
        "Weighted F1-score: 0.86\n",
        "\n",
        "Este modelo fue el de mejor rendimiento general, con métricas altas en casi todas las clases. Se destaca su robustez frente a clases poco representadas, obteniendo un desempeño perfecto en múltiples categorías (clases 3 a 8). La regularización óptima (C=1) fue determinada por validación cruzada.\n",
        "\n",
        "### Logistic Regression (sin balanceo)\n",
        "Accuracy: 0.83\n",
        "\n",
        "Macro F1-score: 0.70\n",
        "\n",
        "Weighted F1-score: 0.81\n",
        "\n",
        "Aunque logró un accuracy general cercano, su desempeño macro bajó significativamente, con valores de F1=0.0 en clases como la 6 y la 8. Esto evidencia el impacto negativo del desbalance de clases, subestimando categorías minoritarias.\n",
        "\n",
        "### 2. Support Vector Machine (SVM)\n",
        "Accuracy: 0.71\n",
        "\n",
        "Macro F1-score: 0.55\n",
        "\n",
        "Weighted F1-score: 0.69\n",
        "\n",
        "Este modelo fue el de peor desempeño general. A pesar de obtener resultados correctos en clases como 3, 7 y 10, falló completamente en otras (como las clases 1, 6 y 8). La baja generalización puede deberse a la sensibilidad de SVM ante datasets pequeños y multicategoría.\n",
        "\n",
        "### 3. Random Forest\n",
        "Accuracy: 0.83\n",
        "\n",
        "Macro F1-score: 0.76\n",
        "\n",
        "Weighted F1-score: 0.82\n",
        "\n",
        "Random Forest mostró un rendimiento muy competitivo. Acertó completamente en varias clases, aunque presentó baja cobertura en clases como la 8 y desempeño irregular en la 9. Es un modelo robusto y versátil, con buena precisión incluso sin tuning intensivo.\n",
        "\n",
        "### 4. K-Nearest Neighbors (k-NN, k=1)\n",
        "Accuracy: 0.74\n",
        "\n",
        "Macro F1-score: 0.76\n",
        "\n",
        "Weighted F1-score: 0.74\n",
        "\n",
        "A pesar de tener un accuracy inferior al de Random Forest, k-NN mostró un macro F1-score comparable, gracias a su buen comportamiento en clases individuales. Sin embargo, sufre con clases más ambiguas o con pocos ejemplos, como la clase 9.\n",
        "\n",
        "### Conclusión general\n",
        "El mejor modelo en términos de balance entre clases y rendimiento global fue Logistic Regression con balanceo y tuning, seguido de cerca por Random Forest.\n",
        "\n",
        "El uso de SMOTE para el balanceo fue crucial para mejorar el desempeño en clases minoritarias.\n",
        "\n",
        "Modelos como SVM no se adaptaron bien a la naturaleza del problema y resultaron menos efectivos.\n",
        "\n"
      ],
      "metadata": {
        "id": "ADSwJMmczha3"
      }
    }
  ]
}
